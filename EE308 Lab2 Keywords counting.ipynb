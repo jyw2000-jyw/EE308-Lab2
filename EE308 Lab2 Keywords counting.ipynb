{
 "cells": [
  {
   "cell_type": "markdown",
   "id": "8f521481",
   "metadata": {},
   "source": [
    "# EE308 Lab2 Keywords counting"
   ]
  },
  {
   "cell_type": "code",
   "execution_count": 343,
   "id": "ac83d5c5",
   "metadata": {
    "scrolled": true
   },
   "outputs": [
    {
     "data": {
      "text/plain": [
       "'#include <stdio.h>\\nint main(){\\n    int i=1;\\n    double j=0;\\n    long f;\\n    switch(i){\\n        case 0:\\n            break;\\n        case 1:\\n            break;\\n        case 2:\\n            break;\\n        default:\\n            break;\\n    }\\n    switch(i){\\n        case 0:\\n            break;\\n        case 1:\\n            break;\\n        default:\\n            break;\\n    }\\n    if(i<0){\\n        if(i<-1){}\\n        else{}\\n    }\\n    else if(i>0){\\n        if (i>2){}\\n        else if (i==2) {}\\n        else if (i>1) {}\\n        else {}\\n    }\\n    else{\\n        if(j!=0){}\\n        else{}\\n    }\\n    return 0;\\n}'"
      ]
     },
     "execution_count": 343,
     "metadata": {},
     "output_type": "execute_result"
    }
   ],
   "source": [
    "with open('lab2_test.txt','r',encoding='utf-8') as f:\n",
    "    code = f.read()\n",
    "code"
   ]
  },
  {
   "cell_type": "code",
   "execution_count": 344,
   "id": "1741311f",
   "metadata": {},
   "outputs": [],
   "source": [
    "import string"
   ]
  },
  {
   "cell_type": "code",
   "execution_count": 345,
   "id": "51cd8ecb",
   "metadata": {},
   "outputs": [
    {
     "data": {
      "text/plain": [
       "'!\"#$%&\\'()*+,-./:;<=>?@[\\\\]^_`{|}~'"
      ]
     },
     "execution_count": 345,
     "metadata": {},
     "output_type": "execute_result"
    }
   ],
   "source": [
    "string.punctuation  # 当然，此处用正则替换也行"
   ]
  },
  {
   "cell_type": "code",
   "execution_count": 346,
   "id": "f3cb6f9e",
   "metadata": {},
   "outputs": [
    {
     "data": {
      "text/plain": [
       "' include  stdio h \\nint main   \\n    int i 1 \\n    double j 0 \\n    long f \\n    switch i  \\n        case 0 \\n            break \\n        case 1 \\n            break \\n        case 2 \\n            break \\n        default \\n            break \\n     \\n    switch i  \\n        case 0 \\n            break \\n        case 1 \\n            break \\n        default \\n            break \\n     \\n    if i 0  \\n        if i  1   \\n        else  \\n     \\n    else if i 0  \\n        if  i 2   \\n        else if  i  2    \\n        else if  i 1    \\n        else   \\n     \\n    else \\n        if j  0   \\n        else  \\n     \\n    return 0 \\n '"
      ]
     },
     "execution_count": 346,
     "metadata": {},
     "output_type": "execute_result"
    }
   ],
   "source": [
    "for i in code:\n",
    "    if i in string.punctuation:  #如果字符是标点符号的话就将其替换为空格\n",
    "        code = code.replace(i,\" \")\n",
    "code"
   ]
  },
  {
   "cell_type": "code",
   "execution_count": 347,
   "id": "d8fa6e8d",
   "metadata": {
    "scrolled": true
   },
   "outputs": [
    {
     "name": "stdout",
     "output_type": "stream",
     "text": [
      "['include', 'stdio', 'h', 'int', 'main', 'int', 'i', '1', 'double', 'j', '0', 'long', 'f', 'switch', 'i', 'case', '0', 'break', 'case', '1', 'break', 'case', '2', 'break', 'default', 'break', 'switch', 'i', 'case', '0', 'break', 'case', '1', 'break', 'default', 'break', 'if', 'i', '0', 'if', 'i', '1', 'else', 'else', 'if', 'i', '0', 'if', 'i', '2', 'else', 'if', 'i', '2', 'else', 'if', 'i', '1', 'else', 'else', 'if', 'j', '0', 'else', 'return', '0']\n"
     ]
    }
   ],
   "source": [
    "selected_kws = code.split()\n",
    "print(selected_kws)"
   ]
  },
  {
   "cell_type": "code",
   "execution_count": 348,
   "id": "8ed8a809",
   "metadata": {},
   "outputs": [],
   "source": [
    "kwList = ['auto','break','case','char','const','continue','default','do','double','else','enum','extern','float','for','goto','if','int','long','register','return','short','signed','sizeof','static','struct','switch','typedef','union','unsigned','void','volatile','while']"
   ]
  },
  {
   "cell_type": "code",
   "execution_count": 349,
   "id": "f91c59fb",
   "metadata": {},
   "outputs": [
    {
     "name": "stdout",
     "output_type": "stream",
     "text": [
      "['stdio', 'int', 'int', 'double', 'long', 'switch', 'case', 'break', 'case', 'break', 'case', 'break', 'default', 'break', 'switch', 'case', 'break', 'case', '1', 'break', 'default', 'break', 'if', '0', 'if', '1', 'else', 'else', 'if', '0', 'if', '2', 'else', 'if', '2', 'else', 'if', '1', 'else', 'else', 'if', '0', 'else', 'return', '0']\n"
     ]
    }
   ],
   "source": [
    "for i in selected_kws:\n",
    "    if i not in kwList:\n",
    "        selected_kws.remove(i) # 删除不是keywords的词(包括数字)\n",
    "print(selected_kws)"
   ]
  },
  {
   "cell_type": "code",
   "execution_count": 350,
   "id": "f8ddd681",
   "metadata": {},
   "outputs": [
    {
     "name": "stdout",
     "output_type": "stream",
     "text": [
      "['int', 'int', 'double', 'long', 'switch', 'case', 'break', 'case', 'break', 'case', 'break', 'default', 'break', 'switch', 'case', 'break', 'case', 'break', 'default', 'break', 'if', 'if', 'else', 'else', 'if', 'if', 'else', 'if', 'else', 'if', 'else', 'else', 'if', 'else', 'return']\n"
     ]
    }
   ],
   "source": [
    "for i in selected_kws:\n",
    "    if i not in kwList:\n",
    "        selected_kws.remove(i) # 删除不是keywords的词(包括数字)\n",
    "print(selected_kws)"
   ]
  },
  {
   "cell_type": "markdown",
   "id": "2a160b42",
   "metadata": {},
   "source": [
    "此处发现需要筛选两次，暂时不知道什么原因"
   ]
  },
  {
   "cell_type": "code",
   "execution_count": 351,
   "id": "fcd01628",
   "metadata": {},
   "outputs": [
    {
     "data": {
      "text/plain": [
       "{'int': 2,\n",
       " 'double': 1,\n",
       " 'long': 1,\n",
       " 'switch': 2,\n",
       " 'case': 5,\n",
       " 'break': 7,\n",
       " 'default': 2,\n",
       " 'if': 7,\n",
       " 'else': 7,\n",
       " 'return': 1}"
      ]
     },
     "execution_count": 351,
     "metadata": {},
     "output_type": "execute_result"
    }
   ],
   "source": [
    "wordsDict = {} #新建字典用于储存词及词频\n",
    "for word in selected_kws:\n",
    "    if word in wordsDict:\n",
    "        wordsDict[word] +=1 #对于重复出现的词，每出现一次，次数增加1\n",
    "    else:\n",
    "        wordsDict[word] =1 \n",
    "wordsDict"
   ]
  },
  {
   "cell_type": "code",
   "execution_count": 352,
   "id": "1e4d8798",
   "metadata": {},
   "outputs": [
    {
     "name": "stdout",
     "output_type": "stream",
     "text": [
      "total num: 35\n",
      "switch num: 2\n"
     ]
    }
   ],
   "source": [
    "def total_num(myDict): \n",
    "      \n",
    "    sum = 0\n",
    "    for i in myDict: \n",
    "        sum = sum + myDict[i] \n",
    "      \n",
    "    return sum\n",
    " \n",
    "print(\"total num:\", total_num(wordsDict))\n",
    "print('switch num:',wordsDict['switch'])"
   ]
  },
  {
   "cell_type": "code",
   "execution_count": 353,
   "id": "7f8668ca",
   "metadata": {},
   "outputs": [
    {
     "name": "stdout",
     "output_type": "stream",
     "text": [
      "['int', 'int', 'double', 'long', 'switch', 'case', 'break', 'case', 'break', 'case', 'break', 'default', 'break', 'switch', 'case', 'break', 'case', 'break', 'default', 'break', 'if', 'if', 'else', 'else', 'if', 'if', 'else', 'if', 'else', 'if', 'else', 'else', 'if', 'else', 'return']\n"
     ]
    }
   ],
   "source": [
    "kw = selected_kws\n",
    "print(kw)"
   ]
  },
  {
   "cell_type": "code",
   "execution_count": 354,
   "id": "ced90640",
   "metadata": {},
   "outputs": [
    {
     "name": "stdout",
     "output_type": "stream",
     "text": [
      "[(0, 'int'), (1, 'int'), (2, 'double'), (3, 'long'), (4, 'switch'), (5, 'case'), (6, 'break'), (7, 'case'), (8, 'break'), (9, 'case'), (10, 'break'), (11, 'default'), (12, 'break'), (13, 'switch'), (14, 'case'), (15, 'break'), (16, 'case'), (17, 'break'), (18, 'default'), (19, 'break'), (20, 'if'), (21, 'if'), (22, 'else'), (23, 'else'), (24, 'if'), (25, 'if'), (26, 'else'), (27, 'if'), (28, 'else'), (29, 'if'), (30, 'else'), (31, 'else'), (32, 'if'), (33, 'else'), (34, 'return')]\n"
     ]
    }
   ],
   "source": [
    "print(list(enumerate(kw)))"
   ]
  },
  {
   "cell_type": "code",
   "execution_count": 355,
   "id": "a113b862",
   "metadata": {},
   "outputs": [
    {
     "data": {
      "text/plain": [
       "[4, 13]"
      ]
     },
     "execution_count": 355,
     "metadata": {},
     "output_type": "execute_result"
    }
   ],
   "source": [
    "switch_index = [i for i,j in enumerate(kw) if j == 'switch']\n",
    "switch_index"
   ]
  },
  {
   "cell_type": "code",
   "execution_count": 356,
   "id": "f22a9908",
   "metadata": {},
   "outputs": [
    {
     "data": {
      "text/plain": [
       "2"
      ]
     },
     "execution_count": 356,
     "metadata": {},
     "output_type": "execute_result"
    }
   ],
   "source": [
    "times = len(switch_index)\n",
    "times"
   ]
  },
  {
   "cell_type": "code",
   "execution_count": 357,
   "id": "989725d9",
   "metadata": {},
   "outputs": [
    {
     "name": "stdout",
     "output_type": "stream",
     "text": [
      "1\n",
      "2\n"
     ]
    }
   ],
   "source": [
    "for time in range(1,times+1):\n",
    "    print(time)"
   ]
  },
  {
   "cell_type": "code",
   "execution_count": 358,
   "id": "dace532b",
   "metadata": {},
   "outputs": [
    {
     "name": "stdout",
     "output_type": "stream",
     "text": [
      "3\n"
     ]
    }
   ],
   "source": [
    "sum_case1 = 0\n",
    "for i in range(switch_index[0],switch_index[1]):  \n",
    "    if kw[i] == 'case':\n",
    "        sum_case1 += 1\n",
    "print(sum_case1)"
   ]
  },
  {
   "cell_type": "code",
   "execution_count": 359,
   "id": "c4874029",
   "metadata": {},
   "outputs": [
    {
     "name": "stdout",
     "output_type": "stream",
     "text": [
      "2\n"
     ]
    }
   ],
   "source": [
    "sum_case2 = 0\n",
    "for i in range(switch_index[1],len(kw)):  # len(kw)=35\n",
    "    if kw[i] == 'case':\n",
    "        sum_case2 += 1\n",
    "print(sum_case2)"
   ]
  },
  {
   "cell_type": "code",
   "execution_count": 360,
   "id": "28128460",
   "metadata": {},
   "outputs": [
    {
     "name": "stdout",
     "output_type": "stream",
     "text": [
      "case num: 3 2\n"
     ]
    }
   ],
   "source": [
    "print('case num:',sum_case1,sum_case2)"
   ]
  }
 ],
 "metadata": {
  "kernelspec": {
   "display_name": "Python 3",
   "language": "python",
   "name": "python3"
  },
  "language_info": {
   "codemirror_mode": {
    "name": "ipython",
    "version": 3
   },
   "file_extension": ".py",
   "mimetype": "text/x-python",
   "name": "python",
   "nbconvert_exporter": "python",
   "pygments_lexer": "ipython3",
   "version": "3.8.8"
  }
 },
 "nbformat": 4,
 "nbformat_minor": 5
}
